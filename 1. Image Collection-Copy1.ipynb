{
 "cells": [
  {
   "cell_type": "markdown",
   "metadata": {},
   "source": [
    "# 1. Import Dependencies"
   ]
  },
  {
   "cell_type": "code",
   "execution_count": 1,
   "metadata": {
    "scrolled": true
   },
   "outputs": [
    {
     "name": "stdout",
     "output_type": "stream",
     "text": [
      "Requirement already satisfied: opencv-python in /Users/rovansuresh/Desktop/ObjectDetection/tfod/lib/python3.8/site-packages (4.5.3.56)\r\n",
      "Requirement already satisfied: numpy>=1.17.3 in /Users/rovansuresh/Desktop/ObjectDetection/tfod/lib/python3.8/site-packages (from opencv-python) (1.21.2)\r\n"
     ]
    }
   ],
   "source": [
    "!pip install opencv-python"
   ]
  },
  {
   "cell_type": "code",
   "execution_count": 2,
   "metadata": {},
   "outputs": [],
   "source": [
    "# Import opencv\n",
    "import cv2 \n",
    "\n",
    "# Import uuid\n",
    "import uuid\n",
    "\n",
    "# Import Operating System\n",
    "import os\n",
    "\n",
    "# Import time\n",
    "import time"
   ]
  },
  {
   "cell_type": "markdown",
   "metadata": {},
   "source": [
    "# 2. Define Images to Collect"
   ]
  },
  {
   "cell_type": "code",
   "execution_count": 2,
   "metadata": {},
   "outputs": [],
   "source": [
    "labels = ['thumbsup', 'thumbsdown']\n",
    "number_imgs = 5"
   ]
  },
  {
   "cell_type": "markdown",
   "metadata": {},
   "source": [
    "# 3. Setup Folders "
   ]
  },
  {
   "cell_type": "code",
   "execution_count": 3,
   "metadata": {},
   "outputs": [],
   "source": [
    "IMAGES_PATH = os.path.join('Tensorflow', 'workspace', 'images', 'collectedimages')"
   ]
  },
  {
   "cell_type": "code",
   "execution_count": 4,
   "metadata": {},
   "outputs": [],
   "source": [
    "if not os.path.exists(IMAGES_PATH):\n",
    "    if os.name == 'posix':\n",
    "        !mkdir -p {IMAGES_PATH}\n",
    "    if os.name == 'nt':\n",
    "         !mkdir {IMAGES_PATH}\n",
    "for label in labels:\n",
    "    path = os.path.join(IMAGES_PATH, label)\n",
    "    if not os.path.exists(path):\n",
    "        !mkdir {path}"
   ]
  },
  {
   "cell_type": "markdown",
   "metadata": {},
   "source": [
    "# 4. Capture Images"
   ]
  },
  {
   "cell_type": "code",
   "execution_count": 3,
   "metadata": {},
   "outputs": [
    {
     "ename": "NameError",
     "evalue": "name 'cv2' is not defined",
     "output_type": "error",
     "traceback": [
      "\u001b[0;31m---------------------------------------------------------------------------\u001b[0m",
      "\u001b[0;31mNameError\u001b[0m                                 Traceback (most recent call last)",
      "\u001b[0;32m/var/folders/3q/dg5tfsfj5y37201zxw1l19dh0000gn/T/ipykernel_6400/1004706123.py\u001b[0m in \u001b[0;36m<module>\u001b[0;34m\u001b[0m\n\u001b[1;32m      1\u001b[0m \u001b[0;32mfor\u001b[0m \u001b[0mlabel\u001b[0m \u001b[0;32min\u001b[0m \u001b[0mlabels\u001b[0m\u001b[0;34m:\u001b[0m\u001b[0;34m\u001b[0m\u001b[0;34m\u001b[0m\u001b[0m\n\u001b[0;32m----> 2\u001b[0;31m     \u001b[0mcap\u001b[0m \u001b[0;34m=\u001b[0m \u001b[0mcv2\u001b[0m\u001b[0;34m.\u001b[0m\u001b[0mVideoCapture\u001b[0m\u001b[0;34m(\u001b[0m\u001b[0;36m0\u001b[0m\u001b[0;34m)\u001b[0m\u001b[0;34m\u001b[0m\u001b[0;34m\u001b[0m\u001b[0m\n\u001b[0m\u001b[1;32m      3\u001b[0m     \u001b[0mprint\u001b[0m\u001b[0;34m(\u001b[0m\u001b[0;34m'Collecting images for {}'\u001b[0m\u001b[0;34m.\u001b[0m\u001b[0mformat\u001b[0m\u001b[0;34m(\u001b[0m\u001b[0mlabel\u001b[0m\u001b[0;34m)\u001b[0m\u001b[0;34m)\u001b[0m\u001b[0;34m\u001b[0m\u001b[0;34m\u001b[0m\u001b[0m\n\u001b[1;32m      4\u001b[0m     \u001b[0mtime\u001b[0m\u001b[0;34m.\u001b[0m\u001b[0msleep\u001b[0m\u001b[0;34m(\u001b[0m\u001b[0;36m5\u001b[0m\u001b[0;34m)\u001b[0m\u001b[0;34m\u001b[0m\u001b[0;34m\u001b[0m\u001b[0m\n\u001b[1;32m      5\u001b[0m     \u001b[0;32mfor\u001b[0m \u001b[0mimgnum\u001b[0m \u001b[0;32min\u001b[0m \u001b[0mrange\u001b[0m\u001b[0;34m(\u001b[0m\u001b[0mnumber_imgs\u001b[0m\u001b[0;34m)\u001b[0m\u001b[0;34m:\u001b[0m\u001b[0;34m\u001b[0m\u001b[0;34m\u001b[0m\u001b[0m\n",
      "\u001b[0;31mNameError\u001b[0m: name 'cv2' is not defined"
     ]
    }
   ],
   "source": [
    "for label in labels:\n",
    "    cap = cv2.VideoCapture(0)\n",
    "    print('Collecting images for {}'.format(label))\n",
    "    time.sleep(5)\n",
    "    for imgnum in range(number_imgs):\n",
    "        print('Collecting image {}'.format(imgnum))\n",
    "        ret, frame = cap.read()\n",
    "        imgname = os.path.join(IMAGES_PATH,label,label+'.'+'{}.jpg'.format(str(uuid.uuid1())))\n",
    "        cv2.imwrite(imgname, frame)\n",
    "        cv2.imshow('frame', frame)\n",
    "        time.sleep(2)\n",
    "\n",
    "        if cv2.waitKey(1) & 0xFF == ord('q'):\n",
    "            break\n",
    "cap.release()\n",
    "cv2.destroyAllWindows()"
   ]
  },
  {
   "cell_type": "markdown",
   "metadata": {},
   "source": [
    "# 5. Image Labelling"
   ]
  },
  {
   "cell_type": "code",
   "execution_count": 15,
   "metadata": {
    "scrolled": false
   },
   "outputs": [
    {
     "name": "stdout",
     "output_type": "stream",
     "text": [
      "Requirement already satisfied: pyqt5 in /Users/rovansuresh/Desktop/ObjectDetection/tfod/lib/python3.8/site-packages (5.15.4)\n",
      "Requirement already satisfied: lxml in /Users/rovansuresh/Desktop/ObjectDetection/tfod/lib/python3.8/site-packages (4.6.3)\n",
      "Requirement already satisfied: PyQt5-sip<13,>=12.8 in /Users/rovansuresh/Desktop/ObjectDetection/tfod/lib/python3.8/site-packages (from pyqt5) (12.9.0)\n",
      "Requirement already satisfied: PyQt5-Qt5>=5.15 in /Users/rovansuresh/Desktop/ObjectDetection/tfod/lib/python3.8/site-packages (from pyqt5) (5.15.2)\n"
     ]
    }
   ],
   "source": [
    "!pip install --upgrade pyqt5 lxml"
   ]
  },
  {
   "cell_type": "code",
   "execution_count": 7,
   "metadata": {},
   "outputs": [],
   "source": [
    "LABELIMG_PATH = os.path.join('Tensorflow', 'labelimg')"
   ]
  },
  {
   "cell_type": "code",
   "execution_count": 21,
   "metadata": {},
   "outputs": [
    {
     "name": "stdout",
     "output_type": "stream",
     "text": [
      "Cloning into 'Tensorflow/labelimg'...\n",
      "remote: Enumerating objects: 1846, done.\u001b[K\n",
      "remote: Counting objects: 100% (87/87), done.\u001b[K\n",
      "remote: Compressing objects: 100% (65/65), done.\u001b[K\n",
      "remote: Total 1846 (delta 37), reused 54 (delta 17), pack-reused 1759\u001b[K\n",
      "Receiving objects: 100% (1846/1846), 232.81 MiB | 7.84 MiB/s, done.\n",
      "Resolving deltas: 100% (1084/1084), done.\n"
     ]
    }
   ],
   "source": [
    "if not os.path.exists(LABELIMG_PATH):\n",
    "    !mkdir {LABELIMG_PATH}\n",
    "    !git clone https://github.com/tzutalin/labelImg.git {LABELIMG_PATH}\n",
    "    #!git config –global http.postBuffer 104857600"
   ]
  },
  {
   "cell_type": "code",
   "execution_count": 22,
   "metadata": {},
   "outputs": [
    {
     "name": "stdout",
     "output_type": "stream",
     "text": [
      "pyrcc5 -o libs/resources.py resources.qrc\r\n"
     ]
    }
   ],
   "source": [
    "if os.name == 'posix':\n",
    "    !cd {LABELIMG_PATH} && make qt5py3\n",
    "if os.name =='nt':\n",
    "    !cd {LABELIMG_PATH} && pyrcc5 -o libs/resources.py resources.qrc"
   ]
  },
  {
   "cell_type": "code",
   "execution_count": 8,
   "metadata": {},
   "outputs": [
    {
     "name": "stdout",
     "output_type": "stream",
     "text": [
      "Cancel creation.\n",
      "Image:/Users/rovansuresh/Desktop/ObjectDetection/TFODCourse/Tensorflow/workspace/images/collectedimages/livelong/livelong.f0a15bb8-0d72-11ec-a82a-3e22fb78a34c.jpg -> Annotation:/Users/rovansuresh/Desktop/ObjectDetection/TFODCourse/Tensorflow/workspace/images/collectedimages/livelong/livelong.f0a15bb8-0d72-11ec-a82a-3e22fb78a34c.xml\n",
      "Image:/Users/rovansuresh/Desktop/ObjectDetection/TFODCourse/Tensorflow/workspace/images/collectedimages/livelong/livelong.f1dc26de-0d72-11ec-a82a-3e22fb78a34c.jpg -> Annotation:/Users/rovansuresh/Desktop/ObjectDetection/TFODCourse/Tensorflow/workspace/images/collectedimages/livelong/livelong.f1dc26de-0d72-11ec-a82a-3e22fb78a34c.xml\n",
      "Image:/Users/rovansuresh/Desktop/ObjectDetection/TFODCourse/Tensorflow/workspace/images/collectedimages/livelong/livelong.f58eebea-0d72-11ec-a82a-3e22fb78a34c.jpg -> Annotation:/Users/rovansuresh/Desktop/ObjectDetection/TFODCourse/Tensorflow/workspace/images/collectedimages/livelong/livelong.f58eebea-0d72-11ec-a82a-3e22fb78a34c.xml\n",
      "Image:/Users/rovansuresh/Desktop/ObjectDetection/TFODCourse/Tensorflow/workspace/images/collectedimages/livelong/livelong.f45411b0-0d72-11ec-a82a-3e22fb78a34c.jpg -> Annotation:/Users/rovansuresh/Desktop/ObjectDetection/TFODCourse/Tensorflow/workspace/images/collectedimages/livelong/livelong.f45411b0-0d72-11ec-a82a-3e22fb78a34c.xml\n",
      "Image:/Users/rovansuresh/Desktop/ObjectDetection/TFODCourse/Tensorflow/workspace/images/collectedimages/livelong/livelong.f3180158-0d72-11ec-a82a-3e22fb78a34c.jpg -> Annotation:/Users/rovansuresh/Desktop/ObjectDetection/TFODCourse/Tensorflow/workspace/images/collectedimages/livelong/livelong.f3180158-0d72-11ec-a82a-3e22fb78a34c.xml\n",
      "Image:/Users/rovansuresh/Desktop/ObjectDetection/TFODCourse/Tensorflow/workspace/images/collectedimages/thankyou/thankyou.e8b0bec6-0d72-11ec-a82a-3e22fb78a34c.jpg -> Annotation:/Users/rovansuresh/Desktop/ObjectDetection/TFODCourse/Tensorflow/workspace/images/collectedimages/thankyou/thankyou.e8b0bec6-0d72-11ec-a82a-3e22fb78a34c.xml\n",
      "Image:/Users/rovansuresh/Desktop/ObjectDetection/TFODCourse/Tensorflow/workspace/images/collectedimages/thankyou/thankyou.e9ebbae8-0d72-11ec-a82a-3e22fb78a34c.jpg -> Annotation:/Users/rovansuresh/Desktop/ObjectDetection/TFODCourse/Tensorflow/workspace/images/collectedimages/thankyou/thankyou.e9ebbae8-0d72-11ec-a82a-3e22fb78a34c.xml\n",
      "Image:/Users/rovansuresh/Desktop/ObjectDetection/TFODCourse/Tensorflow/workspace/images/collectedimages/thankyou/thankyou.e7747a84-0d72-11ec-a82a-3e22fb78a34c.jpg -> Annotation:/Users/rovansuresh/Desktop/ObjectDetection/TFODCourse/Tensorflow/workspace/images/collectedimages/thankyou/thankyou.e7747a84-0d72-11ec-a82a-3e22fb78a34c.xml\n",
      "Image:/Users/rovansuresh/Desktop/ObjectDetection/TFODCourse/Tensorflow/workspace/images/collectedimages/thankyou/thankyou.eb2658d2-0d72-11ec-a82a-3e22fb78a34c.jpg -> Annotation:/Users/rovansuresh/Desktop/ObjectDetection/TFODCourse/Tensorflow/workspace/images/collectedimages/thankyou/thankyou.eb2658d2-0d72-11ec-a82a-3e22fb78a34c.xml\n",
      "Image:/Users/rovansuresh/Desktop/ObjectDetection/TFODCourse/Tensorflow/workspace/images/collectedimages/thankyou/thankyou.ec61a6a2-0d72-11ec-a82a-3e22fb78a34c.jpg -> Annotation:/Users/rovansuresh/Desktop/ObjectDetection/TFODCourse/Tensorflow/workspace/images/collectedimages/thankyou/thankyou.ec61a6a2-0d72-11ec-a82a-3e22fb78a34c.xml\n",
      "Image:/Users/rovansuresh/Desktop/ObjectDetection/TFODCourse/Tensorflow/workspace/images/collectedimages/thumbsdown/thumbsdown.de482550-0d72-11ec-a82a-3e22fb78a34c.jpg -> Annotation:/Users/rovansuresh/Desktop/ObjectDetection/TFODCourse/Tensorflow/workspace/images/collectedimages/thumbsdown/thumbsdown.de482550-0d72-11ec-a82a-3e22fb78a34c.xml\n",
      "Image:/Users/rovansuresh/Desktop/ObjectDetection/TFODCourse/Tensorflow/workspace/images/collectedimages/thumbsdown/thumbsdown.df83436e-0d72-11ec-a82a-3e22fb78a34c.jpg -> Annotation:/Users/rovansuresh/Desktop/ObjectDetection/TFODCourse/Tensorflow/workspace/images/collectedimages/thumbsdown/thumbsdown.df83436e-0d72-11ec-a82a-3e22fb78a34c.xml\n",
      "Image:/Users/rovansuresh/Desktop/ObjectDetection/TFODCourse/Tensorflow/workspace/images/collectedimages/thumbsdown/thumbsdown.e0be91e8-0d72-11ec-a82a-3e22fb78a34c.jpg -> Annotation:/Users/rovansuresh/Desktop/ObjectDetection/TFODCourse/Tensorflow/workspace/images/collectedimages/thumbsdown/thumbsdown.e0be91e8-0d72-11ec-a82a-3e22fb78a34c.xml\n",
      "Image:/Users/rovansuresh/Desktop/ObjectDetection/TFODCourse/Tensorflow/workspace/images/collectedimages/thumbsdown/thumbsdown.e1fa6960-0d72-11ec-a82a-3e22fb78a34c.jpg -> Annotation:/Users/rovansuresh/Desktop/ObjectDetection/TFODCourse/Tensorflow/workspace/images/collectedimages/thumbsdown/thumbsdown.e1fa6960-0d72-11ec-a82a-3e22fb78a34c.xml\n",
      "Image:/Users/rovansuresh/Desktop/ObjectDetection/TFODCourse/Tensorflow/workspace/images/collectedimages/thumbsdown/thumbsdown.e335b4a6-0d72-11ec-a82a-3e22fb78a34c.jpg -> Annotation:/Users/rovansuresh/Desktop/ObjectDetection/TFODCourse/Tensorflow/workspace/images/collectedimages/thumbsdown/thumbsdown.e335b4a6-0d72-11ec-a82a-3e22fb78a34c.xml\n",
      "Image:/Users/rovansuresh/Desktop/ObjectDetection/TFODCourse/Tensorflow/workspace/images/collectedimages/thumbsup/thumbsup.65f7438c-0d73-11ec-97e0-3e22fb78a34c.jpg -> Annotation:/Users/rovansuresh/Desktop/ObjectDetection/TFODCourse/Tensorflow/workspace/images/collectedimages/thumbsup/thumbsup.65f7438c-0d73-11ec-97e0-3e22fb78a34c.xml\n",
      "Image:/Users/rovansuresh/Desktop/ObjectDetection/TFODCourse/Tensorflow/workspace/images/collectedimages/thumbsup/thumbsup.d78d25bc-0d72-11ec-a82a-3e22fb78a34c.jpg -> Annotation:/Users/rovansuresh/Desktop/ObjectDetection/TFODCourse/Tensorflow/workspace/images/collectedimages/thumbsup/thumbsup.d78d25bc-0d72-11ec-a82a-3e22fb78a34c.xml\n",
      "Image:/Users/rovansuresh/Desktop/ObjectDetection/TFODCourse/Tensorflow/workspace/images/collectedimages/thumbsup/thumbsup.d6511cd0-0d72-11ec-a82a-3e22fb78a34c.jpg -> Annotation:/Users/rovansuresh/Desktop/ObjectDetection/TFODCourse/Tensorflow/workspace/images/collectedimages/thumbsup/thumbsup.d6511cd0-0d72-11ec-a82a-3e22fb78a34c.xml\n",
      "Image:/Users/rovansuresh/Desktop/ObjectDetection/TFODCourse/Tensorflow/workspace/images/collectedimages/thumbsup/thumbsup.d50669f2-0d72-11ec-a82a-3e22fb78a34c.jpg -> Annotation:/Users/rovansuresh/Desktop/ObjectDetection/TFODCourse/Tensorflow/workspace/images/collectedimages/thumbsup/thumbsup.d50669f2-0d72-11ec-a82a-3e22fb78a34c.xml\n",
      "Image:/Users/rovansuresh/Desktop/ObjectDetection/TFODCourse/Tensorflow/workspace/images/collectedimages/thumbsup/thumbsup.da0402a2-0d72-11ec-a82a-3e22fb78a34c.jpg -> Annotation:/Users/rovansuresh/Desktop/ObjectDetection/TFODCourse/Tensorflow/workspace/images/collectedimages/thumbsup/thumbsup.da0402a2-0d72-11ec-a82a-3e22fb78a34c.xml\n"
     ]
    }
   ],
   "source": [
    "!cd {LABELIMG_PATH} && python labelImg.py"
   ]
  },
  {
   "cell_type": "markdown",
   "metadata": {},
   "source": [
    "# 6. Move them into a Training and Testing Partition"
   ]
  },
  {
   "cell_type": "markdown",
   "metadata": {},
   "source": [
    "# OPTIONAL - 7. Compress them for Colab Training"
   ]
  },
  {
   "cell_type": "code",
   "execution_count": 20,
   "metadata": {},
   "outputs": [],
   "source": [
    "TRAIN_PATH = os.path.join('Tensorflow', 'workspace', 'images', 'train')\n",
    "TEST_PATH = os.path.join('Tensorflow', 'workspace', 'images', 'test')\n",
    "ARCHIVE_PATH = os.path.join('Tensorflow', 'workspace', 'images', 'archive.tar.gz')"
   ]
  },
  {
   "cell_type": "code",
   "execution_count": 21,
   "metadata": {},
   "outputs": [],
   "source": [
    "!tar -czf {ARCHIVE_PATH} {TRAIN_PATH} {TEST_PATH}"
   ]
  },
  {
   "cell_type": "code",
   "execution_count": null,
   "metadata": {},
   "outputs": [],
   "source": []
  }
 ],
 "metadata": {
  "kernelspec": {
   "display_name": "tfod",
   "language": "python",
   "name": "tfod"
  },
  "language_info": {
   "codemirror_mode": {
    "name": "ipython",
    "version": 3
   },
   "file_extension": ".py",
   "mimetype": "text/x-python",
   "name": "python",
   "nbconvert_exporter": "python",
   "pygments_lexer": "ipython3",
   "version": "3.8.8"
  }
 },
 "nbformat": 4,
 "nbformat_minor": 2
}
